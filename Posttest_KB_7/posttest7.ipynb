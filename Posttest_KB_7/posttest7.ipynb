{
 "cells": [
  {
   "cell_type": "markdown",
   "id": "5cce7c8e-a5e2-47f7-8640-8637c64f935f",
   "metadata": {},
   "source": [
    "# KANIA PUTRI ANANDA\n",
    "# 2109106006\n",
    "## PRAKTIKUM KECERDASAN BUATAN\n",
    "## POSTTEST 7"
   ]
  },
  {
   "cell_type": "markdown",
   "id": "73d00f4c-7731-4da8-bd63-f1fdef7bef03",
   "metadata": {},
   "source": [
    "# Import Library Tensorflow"
   ]
  },
  {
   "cell_type": "code",
   "execution_count": 2,
   "id": "e46c1481-eb1d-4672-bddb-c02b0cdec563",
   "metadata": {},
   "outputs": [],
   "source": [
    "import tensorflow as tf"
   ]
  },
  {
   "cell_type": "code",
   "execution_count": null,
   "id": "b433c21b-2c39-40fa-8414-e164a8b24e92",
   "metadata": {},
   "outputs": [],
   "source": []
  },
  {
   "cell_type": "markdown",
   "id": "b852bf9b-559e-4f6c-8f39-1955cad7bb0b",
   "metadata": {},
   "source": [
    "# Random Tensor dengan Shape (5,5)"
   ]
  },
  {
   "cell_type": "code",
   "execution_count": 3,
   "id": "556f8c46-b669-4ec7-b8ae-6e00a4b588c8",
   "metadata": {},
   "outputs": [
    {
     "data": {
      "text/plain": [
       "array([[ 1.0646114 , -1.4799844 ,  0.22213589, -0.49064332, -1.219541  ],\n",
       "       [ 1.1215402 ,  0.06602204,  0.08294114,  0.46999708, -0.3689432 ],\n",
       "       [ 2.6591425 ,  0.4192372 , -0.5443427 , -0.9204076 , -1.7302604 ],\n",
       "       [ 0.22460638, -0.5495416 , -1.1700286 , -0.05446782, -0.5820542 ],\n",
       "       [-0.14167345,  1.4592743 ,  2.3417501 , -0.67573065, -0.52261186]],\n",
       "      dtype=float32)"
      ]
     },
     "execution_count": 3,
     "metadata": {},
     "output_type": "execute_result"
    }
   ],
   "source": [
    "random_tensor = tf.random.normal([5,5])\n",
    "random_tensor.numpy()"
   ]
  },
  {
   "cell_type": "markdown",
   "id": "9821ad4e-251d-46bd-9b14-224c54eed9a0",
   "metadata": {},
   "source": [
    "# Prime Tensor dengan Shape (5,5)"
   ]
  },
  {
   "cell_type": "code",
   "execution_count": 4,
   "id": "0f04d2cd-fa8a-447b-aade-b7baa3c0f558",
   "metadata": {},
   "outputs": [
    {
     "data": {
      "text/plain": [
       "array([[ 2.,  3.,  5.,  7., 11.],\n",
       "       [13., 17., 19., 23., 29.],\n",
       "       [31., 37., 41., 43., 47.],\n",
       "       [53., 59., 61., 67., 71.],\n",
       "       [73., 79., 83., 89., 97.]], dtype=float32)"
      ]
     },
     "execution_count": 4,
     "metadata": {},
     "output_type": "execute_result"
    }
   ],
   "source": [
    "prime_tensor = tf.constant([2, 3, 5, 7, 11, \n",
    "                            13, 17, 19, 23, 29,\n",
    "                            31, 37, 41, 43, 47, \n",
    "                            53, 59, 61, 67, 71, \n",
    "                            73, 79, 83, 89, 97], shape=[5,5], dtype=tf.float32)\n",
    "prime_tensor.numpy()"
   ]
  },
  {
   "cell_type": "markdown",
   "id": "014bf858-7792-4af1-9b27-1421e923ea0d",
   "metadata": {},
   "source": [
    "# Dimensi dari Random Tensor dan Prime Tensor"
   ]
  },
  {
   "cell_type": "markdown",
   "id": "65b66bde-69a3-4c9f-bdcb-504c6beda6bd",
   "metadata": {},
   "source": [
    "## Dimensi Random Tensor"
   ]
  },
  {
   "cell_type": "code",
   "execution_count": 7,
   "id": "20eb409d-757e-4095-b621-ef7aafe34e0a",
   "metadata": {},
   "outputs": [
    {
     "data": {
      "text/plain": [
       "TensorShape([5, 5])"
      ]
     },
     "execution_count": 7,
     "metadata": {},
     "output_type": "execute_result"
    }
   ],
   "source": [
    "dimensi_random = tf.constant(['random_tensor'], shape=[5,5])\n",
    "dimensi_random.shape\n"
   ]
  },
  {
   "cell_type": "code",
   "execution_count": 8,
   "id": "bc782ff6-ca82-43ed-9fec-a6fac99d27fd",
   "metadata": {},
   "outputs": [
    {
     "data": {
      "text/plain": [
       "<tf.Tensor: shape=(2,), dtype=int32, numpy=array([5, 5])>"
      ]
     },
     "execution_count": 8,
     "metadata": {},
     "output_type": "execute_result"
    }
   ],
   "source": [
    "tf.shape(dimensi_random)"
   ]
  },
  {
   "cell_type": "markdown",
   "id": "3c35b59b-6bc0-4051-b072-25eebe804ce0",
   "metadata": {},
   "source": [
    "## Dimensi Prime Tensor"
   ]
  },
  {
   "cell_type": "code",
   "execution_count": 9,
   "id": "be25b2f7-deaf-4849-9830-80603a7ce2a9",
   "metadata": {},
   "outputs": [
    {
     "data": {
      "text/plain": [
       "TensorShape([5, 5])"
      ]
     },
     "execution_count": 9,
     "metadata": {},
     "output_type": "execute_result"
    }
   ],
   "source": [
    "dimensi_prime = tf.constant(['prime_tensor'], shape=[5,5])\n",
    "dimensi_prime.shape"
   ]
  },
  {
   "cell_type": "code",
   "execution_count": null,
   "id": "a60e60c5-1786-4740-8d7a-df8d743da41a",
   "metadata": {},
   "outputs": [],
   "source": [
    "tf.shape(dimensi_prime)"
   ]
  },
  {
   "cell_type": "markdown",
   "id": "8f0bad77-ad46-4428-8fa2-5858b86b66e9",
   "metadata": {},
   "source": [
    "# Perhitungan Aritmetika"
   ]
  },
  {
   "cell_type": "markdown",
   "id": "f6a83f02-4fda-43fe-bca8-dbd408a1f905",
   "metadata": {},
   "source": [
    "### Penjumlahan"
   ]
  },
  {
   "cell_type": "code",
   "execution_count": 11,
   "id": "ba4f3432-092c-4316-b637-4ddf71a1b795",
   "metadata": {},
   "outputs": [
    {
     "data": {
      "text/plain": [
       "array([[ 3.0646114,  1.5200156,  5.222136 ,  6.5093565,  9.780459 ],\n",
       "       [14.12154  , 17.066023 , 19.082941 , 23.469997 , 28.631058 ],\n",
       "       [33.65914  , 37.41924  , 40.455658 , 42.079594 , 45.26974  ],\n",
       "       [53.224606 , 58.45046  , 59.82997  , 66.94553  , 70.417946 ],\n",
       "       [72.85833  , 80.459274 , 85.34175  , 88.32427  , 96.47739  ]],\n",
       "      dtype=float32)"
      ]
     },
     "execution_count": 11,
     "metadata": {},
     "output_type": "execute_result"
    }
   ],
   "source": [
    "penjumlahan = random_tensor + prime_tensor\n",
    "penjumlahan.numpy()"
   ]
  },
  {
   "cell_type": "markdown",
   "id": "bfb742e4-1dbf-4e58-b309-1fec063514a2",
   "metadata": {},
   "source": [
    "### Pengurangan"
   ]
  },
  {
   "cell_type": "code",
   "execution_count": 12,
   "id": "aa41a117-cecc-40ed-8005-a844e57a7d55",
   "metadata": {},
   "outputs": [
    {
     "data": {
      "text/plain": [
       "array([[ -0.93538857,  -4.4799843 ,  -4.777864  ,  -7.4906435 ,\n",
       "        -12.219541  ],\n",
       "       [-11.87846   , -16.933977  , -18.917059  , -22.530003  ,\n",
       "        -29.368942  ],\n",
       "       [-28.340858  , -36.58076   , -41.544342  , -43.920406  ,\n",
       "        -48.73026   ],\n",
       "       [-52.775394  , -59.54954   , -62.17003   , -67.05447   ,\n",
       "        -71.582054  ],\n",
       "       [-73.14167   , -77.540726  , -80.65825   , -89.67573   ,\n",
       "        -97.52261   ]], dtype=float32)"
      ]
     },
     "execution_count": 12,
     "metadata": {},
     "output_type": "execute_result"
    }
   ],
   "source": [
    "pengurangan = random_tensor - prime_tensor\n",
    "pengurangan.numpy()"
   ]
  },
  {
   "cell_type": "markdown",
   "id": "99b2626c-3535-4663-8ada-d837f3151ceb",
   "metadata": {},
   "source": [
    "### Perkalian"
   ]
  },
  {
   "cell_type": "code",
   "execution_count": 13,
   "id": "89112081-963f-47f4-9567-e574f443cce5",
   "metadata": {},
   "outputs": [
    {
     "data": {
      "text/plain": [
       "array([[  2.1292229,  -4.4399533,   1.1106794,  -3.4345033, -13.41495  ],\n",
       "       [ 14.580023 ,   1.1223747,   1.5758816,  10.809933 , -10.699353 ],\n",
       "       [ 82.43342  ,  15.511776 , -22.31805  , -39.577526 , -81.322235 ],\n",
       "       [ 11.904139 , -32.422955 , -71.37174  ,  -3.6493437, -41.325848 ],\n",
       "       [-10.342161 , 115.28267  , 194.36526  , -60.140026 , -50.69335  ]],\n",
       "      dtype=float32)"
      ]
     },
     "execution_count": 13,
     "metadata": {},
     "output_type": "execute_result"
    }
   ],
   "source": [
    "perkalian = random_tensor * prime_tensor\n",
    "perkalian.numpy()"
   ]
  },
  {
   "cell_type": "markdown",
   "id": "064f19f7-fa30-437d-94a5-acf33aeff965",
   "metadata": {},
   "source": [
    "### Pembagian"
   ]
  },
  {
   "cell_type": "code",
   "execution_count": 14,
   "id": "17974a05-d933-4967-be58-80386cfb9ced",
   "metadata": {},
   "outputs": [
    {
     "data": {
      "text/plain": [
       "array([[ 0.5323057 , -0.49332812,  0.04442718, -0.0700919 , -0.11086736],\n",
       "       [ 0.08627232,  0.00388365,  0.00436532,  0.02043466, -0.01272218],\n",
       "       [ 0.08577879,  0.01133073, -0.01327665, -0.02140483, -0.03681405],\n",
       "       [ 0.00423786, -0.00931426, -0.0191808 , -0.00081295, -0.00819795],\n",
       "       [-0.00194073,  0.01847183,  0.02821386, -0.00759248, -0.00538775]],\n",
       "      dtype=float32)"
      ]
     },
     "execution_count": 14,
     "metadata": {},
     "output_type": "execute_result"
    }
   ],
   "source": [
    "pembagian = random_tensor / prime_tensor\n",
    "pembagian.numpy()"
   ]
  },
  {
   "cell_type": "markdown",
   "id": "8843da2a-1727-4940-9140-f25b597a47d1",
   "metadata": {},
   "source": [
    "### Modulus"
   ]
  },
  {
   "cell_type": "code",
   "execution_count": 15,
   "id": "6aee39e4-58d8-4bf3-a687-2cdf616919f4",
   "metadata": {},
   "outputs": [
    {
     "data": {
      "text/plain": [
       "array([[1.0646114e+00, 1.5200156e+00, 2.2213589e-01, 6.5093565e+00,\n",
       "        9.7804594e+00],\n",
       "       [1.1215402e+00, 6.6022038e-02, 8.2941137e-02, 4.6999708e-01,\n",
       "        2.8631058e+01],\n",
       "       [2.6591425e+00, 4.1923720e-01, 4.0455658e+01, 4.2079594e+01,\n",
       "        4.5269741e+01],\n",
       "       [2.2460638e-01, 5.8450459e+01, 5.9829971e+01, 6.6945534e+01,\n",
       "        7.0417946e+01],\n",
       "       [7.2858330e+01, 1.4592743e+00, 2.3417501e+00, 8.8324272e+01,\n",
       "        9.6477386e+01]], dtype=float32)"
      ]
     },
     "execution_count": 15,
     "metadata": {},
     "output_type": "execute_result"
    }
   ],
   "source": [
    "modulus = random_tensor % prime_tensor\n",
    "modulus.numpy()"
   ]
  },
  {
   "cell_type": "markdown",
   "id": "d7e139fc-8e8c-4bcf-92fa-ac38bc12a4eb",
   "metadata": {},
   "source": [
    "### Pemangkatan"
   ]
  },
  {
   "cell_type": "code",
   "execution_count": 16,
   "id": "6212fec1-5d5f-4e53-98fd-01bdcd74adc7",
   "metadata": {},
   "outputs": [
    {
     "data": {
      "text/plain": [
       "array([[ 1.13339746e+00, -3.24168944e+00,  5.40870940e-04,\n",
       "        -6.84480742e-03, -8.87483501e+00],\n",
       "       [ 4.44214678e+00,  8.60422610e-21,  2.86173715e-21,\n",
       "         2.87202777e-08, -2.76583525e-13],\n",
       "       [ 1.46889213e+13,  1.07402134e-14, -1.48172776e-11,\n",
       "        -2.82584466e-02, -1.55324039e+11],\n",
       "       [ 4.22056569e-35, -4.57123459e-16, -1.44538789e+04,\n",
       "        -0.00000000e+00, -2.05306741e-17],\n",
       "       [-0.00000000e+00,  9.26440594e+12,  4.69749283e+30,\n",
       "        -7.07704180e-16, -4.60667998e-28]], dtype=float32)"
      ]
     },
     "execution_count": 16,
     "metadata": {},
     "output_type": "execute_result"
    }
   ],
   "source": [
    "pemangkatan = random_tensor ** prime_tensor\n",
    "pemangkatan.numpy()"
   ]
  },
  {
   "cell_type": "markdown",
   "id": "853127d1-6e4d-418c-88cb-49e9eb2ad0ba",
   "metadata": {},
   "source": [
    "### Pembagian Bulat"
   ]
  },
  {
   "cell_type": "code",
   "execution_count": 17,
   "id": "d5eb78ba-6c8e-4de2-ac2c-7867d66fc668",
   "metadata": {},
   "outputs": [
    {
     "data": {
      "text/plain": [
       "array([[ 0., -1.,  0., -1., -1.],\n",
       "       [ 0.,  0.,  0.,  0., -1.],\n",
       "       [ 0.,  0., -1., -1., -1.],\n",
       "       [ 0., -1., -1., -1., -1.],\n",
       "       [-1.,  0.,  0., -1., -1.]], dtype=float32)"
      ]
     },
     "execution_count": 17,
     "metadata": {},
     "output_type": "execute_result"
    }
   ],
   "source": [
    "bagi_bulat = random_tensor // prime_tensor\n",
    "bagi_bulat.numpy()"
   ]
  },
  {
   "cell_type": "markdown",
   "id": "07246642-23c9-4180-82c5-ae9db7c1aed8",
   "metadata": {},
   "source": [
    "# Nilai Maksimum dan Minimum"
   ]
  },
  {
   "cell_type": "markdown",
   "id": "db3a7f5f-1d31-4d0c-b0c0-8e37adf68ea9",
   "metadata": {},
   "source": [
    "## Nilai Maksimum Random Tensor"
   ]
  },
  {
   "cell_type": "code",
   "execution_count": 21,
   "id": "036a2628-593a-45fd-a2db-b471fabfd91c",
   "metadata": {},
   "outputs": [
    {
     "name": "stdout",
     "output_type": "stream",
     "text": [
      "Nilai Maksimum Random Tensor Berada Diindex  [2 4 4 1 1]\n"
     ]
    }
   ],
   "source": [
    "max_random_tensor = tf.argmax(random_tensor, axis = 0)\n",
    "print(\"Nilai Maksimum Random Tensor Berada Diindex \", max_random_tensor.numpy())"
   ]
  },
  {
   "cell_type": "markdown",
   "id": "ea1536b9-28a4-4eda-9c32-e1755ea12da2",
   "metadata": {},
   "source": [
    "## Nilai Minimum Random Tensor"
   ]
  },
  {
   "cell_type": "code",
   "execution_count": 22,
   "id": "6cc7ec91-78c7-4bf2-8dcc-260d3e8dbc3a",
   "metadata": {},
   "outputs": [
    {
     "name": "stdout",
     "output_type": "stream",
     "text": [
      "Nilai Minimum Random Tensor Berada Diindex  [4 0 3 2 2]\n"
     ]
    }
   ],
   "source": [
    "min_random_tensor= tf.argmin(random_tensor, axis = 0)\n",
    "print(\"Nilai Minimum Random Tensor Berada Diindex \", min_random_tensor.numpy())"
   ]
  },
  {
   "cell_type": "markdown",
   "id": "993cb022-783d-4d99-b01f-4be90a36a7bb",
   "metadata": {},
   "source": [
    "# Sorting Descending"
   ]
  },
  {
   "cell_type": "markdown",
   "id": "9a9d635b-7e93-439c-90c8-ec18416e6cce",
   "metadata": {},
   "source": [
    "## Random Tensor"
   ]
  },
  {
   "cell_type": "code",
   "execution_count": 23,
   "id": "6fbc94dd-1f36-4dae-871a-d1a1308fc935",
   "metadata": {},
   "outputs": [
    {
     "name": "stdout",
     "output_type": "stream",
     "text": [
      "DESCENDING\n"
     ]
    },
    {
     "data": {
      "text/plain": [
       "array([[ 1.0646114 ,  0.22213589, -0.49064332, -1.219541  , -1.4799844 ],\n",
       "       [ 1.1215402 ,  0.46999708,  0.08294114,  0.06602204, -0.3689432 ],\n",
       "       [ 2.6591425 ,  0.4192372 , -0.5443427 , -0.9204076 , -1.7302604 ],\n",
       "       [ 0.22460638, -0.05446782, -0.5495416 , -0.5820542 , -1.1700286 ],\n",
       "       [ 2.3417501 ,  1.4592743 , -0.14167345, -0.52261186, -0.67573065]],\n",
       "      dtype=float32)"
      ]
     },
     "execution_count": 23,
     "metadata": {},
     "output_type": "execute_result"
    }
   ],
   "source": [
    "desc_random_tensor = tf.sort(random_tensor, direction=\"DESCENDING\")\n",
    "print(\"DESCENDING\")\n",
    "desc_random_tensor.numpy()"
   ]
  },
  {
   "cell_type": "code",
   "execution_count": null,
   "id": "d230ac3e-2412-4bf6-b115-d89a91c221c0",
   "metadata": {},
   "outputs": [],
   "source": []
  },
  {
   "cell_type": "markdown",
   "id": "638cd469-75b1-49f0-bfa8-5fefda69fd10",
   "metadata": {},
   "source": [
    "## Prime Tensor"
   ]
  },
  {
   "cell_type": "code",
   "execution_count": 24,
   "id": "297bc92f-8912-4681-9fa3-90c51fa49764",
   "metadata": {},
   "outputs": [
    {
     "name": "stdout",
     "output_type": "stream",
     "text": [
      "DESCENDING\n"
     ]
    },
    {
     "data": {
      "text/plain": [
       "array([[11.,  7.,  5.,  3.,  2.],\n",
       "       [29., 23., 19., 17., 13.],\n",
       "       [47., 43., 41., 37., 31.],\n",
       "       [71., 67., 61., 59., 53.],\n",
       "       [97., 89., 83., 79., 73.]], dtype=float32)"
      ]
     },
     "execution_count": 24,
     "metadata": {},
     "output_type": "execute_result"
    }
   ],
   "source": [
    "desc_prime_tensor = tf.sort(prime_tensor, direction=\"DESCENDING\")\n",
    "print(\"DESCENDING\")\n",
    "desc_prime_tensor.numpy()"
   ]
  },
  {
   "cell_type": "code",
   "execution_count": null,
   "id": "1c099d26-bed3-4d91-a84d-7c4e6cbeb4fa",
   "metadata": {},
   "outputs": [],
   "source": []
  }
 ],
 "metadata": {
  "kernelspec": {
   "display_name": "Python 3 (ipykernel)",
   "language": "python",
   "name": "python3"
  },
  "language_info": {
   "codemirror_mode": {
    "name": "ipython",
    "version": 3
   },
   "file_extension": ".py",
   "mimetype": "text/x-python",
   "name": "python",
   "nbconvert_exporter": "python",
   "pygments_lexer": "ipython3",
   "version": "3.10.7"
  }
 },
 "nbformat": 4,
 "nbformat_minor": 5
}
