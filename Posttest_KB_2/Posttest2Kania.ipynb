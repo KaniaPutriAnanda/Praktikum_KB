{
 "cells": [
  {
   "cell_type": "markdown",
   "id": "6be51aca-10f6-469a-a972-d0f2d8608e82",
   "metadata": {},
   "source": [
    "## KANIA PUTRI ANANDA || 2109106006\n",
    "### TOY DATASET"
   ]
  },
  {
   "cell_type": "markdown",
   "id": "c62f496d-76ac-4bc3-bf60-2ee2d175d4cb",
   "metadata": {},
   "source": [
    "### Meng-import Library"
   ]
  },
  {
   "cell_type": "code",
   "execution_count": 174,
   "id": "3085fdce-5a32-49ca-ac03-504e19b85403",
   "metadata": {},
   "outputs": [],
   "source": [
    "import pandas as pd\n",
    "import numpy as np\n",
    "from prettytable import PrettyTable\n",
    "\n",
    "dataFrame = pd.read_csv(\"toy_dataset1.csv\")"
   ]
  },
  {
   "cell_type": "markdown",
   "id": "af0e0c74-9036-42a9-901d-6582fd9a7491",
   "metadata": {},
   "source": [
    "### Memasukkan Attribute ke dalam Dictionary"
   ]
  },
  {
   "cell_type": "code",
   "execution_count": 185,
   "id": "5b99e442-ba44-4726-acd5-0be3e04f32b7",
   "metadata": {},
   "outputs": [],
   "source": [
    "info = {\n",
    "    'jumlah_records' : dataFrame.shape[0],\n",
    "    'nama_attribute' : [],\n",
    "    'tipe_objek' : 0,\n",
    "    'tipe_angka' : 0,\n",
    "    'nilai_null' : 0\n",
    "}\n",
    "\n",
    "info['jumlah_records'] = dataFrame.shape[0]\n",
    "info['nama_attribute'] = list(dataFrame.columns)\n",
    "info['nilai_null'] = list(dataFrame.loc[:, dataFrame.isnull().any()].columns)\n",
    "info['tipe_objek'] = list(dataFrame.select_dtypes(['object']).columns)\n",
    "info['tipe_angka'] = list(dataFrame.select_dtypes(['int64']).columns)"
   ]
  },
  {
   "cell_type": "markdown",
   "id": "0714be98-fa36-4ea6-9b38-ef0c228c879e",
   "metadata": {},
   "source": [
    "### Menampilkan ISI DICTIONARY"
   ]
  },
  {
   "cell_type": "code",
   "execution_count": 188,
   "id": "fbeb984f-5c09-4e36-a4a4-66ad51d00a45",
   "metadata": {},
   "outputs": [
    {
     "name": "stdout",
     "output_type": "stream",
     "text": [
      "+-----------------+------------------------------------------------+\n",
      "| Informasi       | Jumlah                                         |\n",
      "+-----------------+------------------------------------------------+\n",
      "| Record          | 150000                                         |\n",
      "| Nama & Attribut | Number, City, Gender, Age, Income, Illness (6) |\n",
      "| Tipe Objek      | City, Gender, Illness (3)                      |\n",
      "| Tipe Angka      | Number, Age, Income (3)                        |\n",
      "| Nilai Null      |  (0)                                           |\n",
      "+-----------------+------------------------------------------------+\n"
     ]
    }
   ],
   "source": [
    "table = PrettyTable([\"Informasi\", \"Jumlah\"])\n",
    "table.align = \"l\"\n",
    "\n",
    "table.add_row([\"Record\", info['jumlah_records']])\n",
    "table.add_row([\"Nama & Attribut\", f\"{', '.join(info['nama_attribute'])} ({ len(info['nama_attribute']) })\"])\n",
    "table.add_row([\"Tipe Objek\", f\"{', '.join(info['tipe_objek'])} ({ len(info['tipe_objek']) })\"])\n",
    "table.add_row([\"Tipe Angka\", f\"{', '.join(info['tipe_angka'])} ({ len(info['tipe_angka']) })\"])\n",
    "table.add_row([\"Nilai Null\", f\"{', '.join(info['nilai_null'])} ({ len(info['nilai_null']) })\"])\n",
    "\n",
    "\n",
    "print(table)"
   ]
  },
  {
   "cell_type": "markdown",
   "id": "360458c7-030a-4a51-9c88-4943a02bd18e",
   "metadata": {},
   "source": [
    "### Menampilkan RATA-RATA, STD, MIN, MAX, Q1, Q2, Q3"
   ]
  },
  {
   "cell_type": "code",
   "execution_count": 81,
   "id": "e56ea48f-8719-4c12-b36d-659d3333d4d9",
   "metadata": {},
   "outputs": [
    {
     "data": {
      "text/html": [
       "<div>\n",
       "<style scoped>\n",
       "    .dataframe tbody tr th:only-of-type {\n",
       "        vertical-align: middle;\n",
       "    }\n",
       "\n",
       "    .dataframe tbody tr th {\n",
       "        vertical-align: top;\n",
       "    }\n",
       "\n",
       "    .dataframe thead th {\n",
       "        text-align: right;\n",
       "    }\n",
       "</style>\n",
       "<table border=\"1\" class=\"dataframe\">\n",
       "  <thead>\n",
       "    <tr style=\"text-align: right;\">\n",
       "      <th></th>\n",
       "      <th>Number</th>\n",
       "      <th>Age</th>\n",
       "      <th>Income</th>\n",
       "    </tr>\n",
       "  </thead>\n",
       "  <tbody>\n",
       "    <tr>\n",
       "      <th>count</th>\n",
       "      <td>150000.000000</td>\n",
       "      <td>150000.000000</td>\n",
       "      <td>150000.000000</td>\n",
       "    </tr>\n",
       "    <tr>\n",
       "      <th>mean</th>\n",
       "      <td>75000.500000</td>\n",
       "      <td>44.950200</td>\n",
       "      <td>91252.798273</td>\n",
       "    </tr>\n",
       "    <tr>\n",
       "      <th>std</th>\n",
       "      <td>43301.414527</td>\n",
       "      <td>11.572486</td>\n",
       "      <td>24989.500948</td>\n",
       "    </tr>\n",
       "    <tr>\n",
       "      <th>min</th>\n",
       "      <td>1.000000</td>\n",
       "      <td>25.000000</td>\n",
       "      <td>-654.000000</td>\n",
       "    </tr>\n",
       "    <tr>\n",
       "      <th>25%</th>\n",
       "      <td>37500.750000</td>\n",
       "      <td>35.000000</td>\n",
       "      <td>80867.750000</td>\n",
       "    </tr>\n",
       "    <tr>\n",
       "      <th>50%</th>\n",
       "      <td>75000.500000</td>\n",
       "      <td>45.000000</td>\n",
       "      <td>93655.000000</td>\n",
       "    </tr>\n",
       "    <tr>\n",
       "      <th>75%</th>\n",
       "      <td>112500.250000</td>\n",
       "      <td>55.000000</td>\n",
       "      <td>104519.000000</td>\n",
       "    </tr>\n",
       "    <tr>\n",
       "      <th>max</th>\n",
       "      <td>150000.000000</td>\n",
       "      <td>65.000000</td>\n",
       "      <td>177157.000000</td>\n",
       "    </tr>\n",
       "  </tbody>\n",
       "</table>\n",
       "</div>"
      ],
      "text/plain": [
       "              Number            Age         Income\n",
       "count  150000.000000  150000.000000  150000.000000\n",
       "mean    75000.500000      44.950200   91252.798273\n",
       "std     43301.414527      11.572486   24989.500948\n",
       "min         1.000000      25.000000    -654.000000\n",
       "25%     37500.750000      35.000000   80867.750000\n",
       "50%     75000.500000      45.000000   93655.000000\n",
       "75%    112500.250000      55.000000  104519.000000\n",
       "max    150000.000000      65.000000  177157.000000"
      ]
     },
     "execution_count": 81,
     "metadata": {},
     "output_type": "execute_result"
    }
   ],
   "source": [
    "dataFrame.describe()"
   ]
  },
  {
   "cell_type": "markdown",
   "id": "c57fcfff-0055-4227-a7ed-24b3113b24e2",
   "metadata": {},
   "source": [
    "### Menampilkan NILAI KORELASI"
   ]
  },
  {
   "cell_type": "code",
   "execution_count": 83,
   "id": "6a4d3911-9901-4a22-b9da-7e448960243f",
   "metadata": {},
   "outputs": [
    {
     "data": {
      "text/html": [
       "<div>\n",
       "<style scoped>\n",
       "    .dataframe tbody tr th:only-of-type {\n",
       "        vertical-align: middle;\n",
       "    }\n",
       "\n",
       "    .dataframe tbody tr th {\n",
       "        vertical-align: top;\n",
       "    }\n",
       "\n",
       "    .dataframe thead th {\n",
       "        text-align: right;\n",
       "    }\n",
       "</style>\n",
       "<table border=\"1\" class=\"dataframe\">\n",
       "  <thead>\n",
       "    <tr style=\"text-align: right;\">\n",
       "      <th></th>\n",
       "      <th>Number</th>\n",
       "      <th>Age</th>\n",
       "      <th>Income</th>\n",
       "    </tr>\n",
       "  </thead>\n",
       "  <tbody>\n",
       "    <tr>\n",
       "      <th>Number</th>\n",
       "      <td>1.000000</td>\n",
       "      <td>-0.003448</td>\n",
       "      <td>0.410460</td>\n",
       "    </tr>\n",
       "    <tr>\n",
       "      <th>Age</th>\n",
       "      <td>-0.003448</td>\n",
       "      <td>1.000000</td>\n",
       "      <td>-0.001318</td>\n",
       "    </tr>\n",
       "    <tr>\n",
       "      <th>Income</th>\n",
       "      <td>0.410460</td>\n",
       "      <td>-0.001318</td>\n",
       "      <td>1.000000</td>\n",
       "    </tr>\n",
       "  </tbody>\n",
       "</table>\n",
       "</div>"
      ],
      "text/plain": [
       "          Number       Age    Income\n",
       "Number  1.000000 -0.003448  0.410460\n",
       "Age    -0.003448  1.000000 -0.001318\n",
       "Income  0.410460 -0.001318  1.000000"
      ]
     },
     "execution_count": 83,
     "metadata": {},
     "output_type": "execute_result"
    }
   ],
   "source": [
    "dataFrame.corr()"
   ]
  },
  {
   "cell_type": "markdown",
   "id": "eeadb1a9-450a-4741-9756-8c33b35c5f5b",
   "metadata": {},
   "source": [
    "### MENGUBAH NILAI menjadi DESIMAL "
   ]
  },
  {
   "cell_type": "code",
   "execution_count": 169,
   "id": "d3723145-371a-4e85-bcce-c24fd8eef41a",
   "metadata": {},
   "outputs": [
    {
     "data": {
      "text/plain": [
       "0          40367.0\n",
       "1          45084.0\n",
       "2          52483.0\n",
       "3          40941.0\n",
       "4          50289.0\n",
       "            ...   \n",
       "149995     93669.0\n",
       "149996     96748.0\n",
       "149997    111885.0\n",
       "149998    111878.0\n",
       "149999     87251.0\n",
       "Name: Income, Length: 150000, dtype: float64"
      ]
     },
     "execution_count": 169,
     "metadata": {},
     "output_type": "execute_result"
    }
   ],
   "source": [
    "dataFrame['Income'].astype(float)"
   ]
  },
  {
   "cell_type": "markdown",
   "id": "511afa2f-b389-4bd6-8952-79b72ec4108f",
   "metadata": {},
   "source": [
    "### Menampilkan 10 RECORD PERTAMA DARI ATTRIBUTE BERTIPE ANGKA"
   ]
  },
  {
   "cell_type": "code",
   "execution_count": 168,
   "id": "4aa270fd-e884-44ee-951e-7d96704fd36f",
   "metadata": {},
   "outputs": [
    {
     "data": {
      "text/html": [
       "<div>\n",
       "<style scoped>\n",
       "    .dataframe tbody tr th:only-of-type {\n",
       "        vertical-align: middle;\n",
       "    }\n",
       "\n",
       "    .dataframe tbody tr th {\n",
       "        vertical-align: top;\n",
       "    }\n",
       "\n",
       "    .dataframe thead th {\n",
       "        text-align: right;\n",
       "    }\n",
       "</style>\n",
       "<table border=\"1\" class=\"dataframe\">\n",
       "  <thead>\n",
       "    <tr style=\"text-align: right;\">\n",
       "      <th></th>\n",
       "      <th>Number</th>\n",
       "      <th>Age</th>\n",
       "      <th>Income</th>\n",
       "    </tr>\n",
       "  </thead>\n",
       "  <tbody>\n",
       "    <tr>\n",
       "      <th>0</th>\n",
       "      <td>1</td>\n",
       "      <td>41</td>\n",
       "      <td>40367</td>\n",
       "    </tr>\n",
       "    <tr>\n",
       "      <th>1</th>\n",
       "      <td>2</td>\n",
       "      <td>54</td>\n",
       "      <td>45084</td>\n",
       "    </tr>\n",
       "    <tr>\n",
       "      <th>2</th>\n",
       "      <td>3</td>\n",
       "      <td>42</td>\n",
       "      <td>52483</td>\n",
       "    </tr>\n",
       "    <tr>\n",
       "      <th>3</th>\n",
       "      <td>4</td>\n",
       "      <td>40</td>\n",
       "      <td>40941</td>\n",
       "    </tr>\n",
       "    <tr>\n",
       "      <th>4</th>\n",
       "      <td>5</td>\n",
       "      <td>46</td>\n",
       "      <td>50289</td>\n",
       "    </tr>\n",
       "    <tr>\n",
       "      <th>5</th>\n",
       "      <td>6</td>\n",
       "      <td>36</td>\n",
       "      <td>50786</td>\n",
       "    </tr>\n",
       "    <tr>\n",
       "      <th>6</th>\n",
       "      <td>7</td>\n",
       "      <td>32</td>\n",
       "      <td>33155</td>\n",
       "    </tr>\n",
       "    <tr>\n",
       "      <th>7</th>\n",
       "      <td>8</td>\n",
       "      <td>39</td>\n",
       "      <td>30914</td>\n",
       "    </tr>\n",
       "    <tr>\n",
       "      <th>8</th>\n",
       "      <td>9</td>\n",
       "      <td>51</td>\n",
       "      <td>68667</td>\n",
       "    </tr>\n",
       "    <tr>\n",
       "      <th>9</th>\n",
       "      <td>10</td>\n",
       "      <td>30</td>\n",
       "      <td>50082</td>\n",
       "    </tr>\n",
       "  </tbody>\n",
       "</table>\n",
       "</div>"
      ],
      "text/plain": [
       "   Number  Age  Income\n",
       "0       1   41   40367\n",
       "1       2   54   45084\n",
       "2       3   42   52483\n",
       "3       4   40   40941\n",
       "4       5   46   50289\n",
       "5       6   36   50786\n",
       "6       7   32   33155\n",
       "7       8   39   30914\n",
       "8       9   51   68667\n",
       "9      10   30   50082"
      ]
     },
     "execution_count": 168,
     "metadata": {},
     "output_type": "execute_result"
    }
   ],
   "source": [
    "datahead = dataFrame.select_dtypes(include=np.number)\n",
    "datahead.head(10)"
   ]
  },
  {
   "cell_type": "markdown",
   "id": "8b011dc6-2b49-4e91-82c8-0bdafc24cf04",
   "metadata": {},
   "source": [
    "### Menyimpan DATASET DENGAN ATTRIBUTE ANGKA ke dalam CSV"
   ]
  },
  {
   "cell_type": "code",
   "execution_count": 69,
   "id": "cb28503a-ba3d-46b1-98c8-65a77bacaec1",
   "metadata": {},
   "outputs": [
    {
     "name": "stderr",
     "output_type": "stream",
     "text": [
      "C:\\Users\\ASUS\\AppData\\Local\\Temp\\ipykernel_2016\\3908671775.py:1: FutureWarning: Passing a set as an indexer is deprecated and will raise in a future version. Use a list instead.\n",
      "  dataFrame[{'Number', 'Age', 'Income'}].to_csv(\"toy_story.csv\")\n"
     ]
    }
   ],
   "source": [
    "dataFrame[{'Number', 'Age', 'Income'}].to_csv(\"toy_story.csv\")"
   ]
  }
 ],
 "metadata": {
  "kernelspec": {
   "display_name": "Kania_006",
   "language": "python",
   "name": "kania_006"
  },
  "language_info": {
   "codemirror_mode": {
    "name": "ipython",
    "version": 3
   },
   "file_extension": ".py",
   "mimetype": "text/x-python",
   "name": "python",
   "nbconvert_exporter": "python",
   "pygments_lexer": "ipython3",
   "version": "3.10.7"
  }
 },
 "nbformat": 4,
 "nbformat_minor": 5
}
